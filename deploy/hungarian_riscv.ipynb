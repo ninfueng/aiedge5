{
 "cells": [
  {
   "cell_type": "code",
   "execution_count": 1,
   "id": "7b3c1b5b",
   "metadata": {},
   "outputs": [
    {
     "data": {
      "application/javascript": "\ntry {\nrequire(['notebook/js/codecell'], function(codecell) {\n  codecell.CodeCell.options_default.highlight_modes[\n      'magic_text/x-csrc'] = {'reg':[/^%%microblaze/]};\n  Jupyter.notebook.events.one('kernel_ready.Kernel', function(){\n      Jupyter.notebook.get_cells().map(function(cell){\n          if (cell.cell_type == 'code'){ cell.auto_highlight(); } }) ;\n  });\n});\n} catch (e) {};\n"
     },
     "metadata": {},
     "output_type": "display_data"
    },
    {
     "data": {
      "application/javascript": "\ntry {\nrequire(['notebook/js/codecell'], function(codecell) {\n  codecell.CodeCell.options_default.highlight_modes[\n      'magic_text/x-csrc'] = {'reg':[/^%%pybind11/]};\n  Jupyter.notebook.events.one('kernel_ready.Kernel', function(){\n      Jupyter.notebook.get_cells().map(function(cell){\n          if (cell.cell_type == 'code'){ cell.auto_highlight(); } }) ;\n  });\n});\n} catch (e) {};\n"
     },
     "metadata": {},
     "output_type": "display_data"
    }
   ],
   "source": [
    "import time\n",
    "import signal\n",
    "\n",
    "import numpy as np\n",
    "from pynq import Overlay\n",
    "from isa import REGMAP, lui, load_instructs"
   ]
  },
  {
   "cell_type": "code",
   "execution_count": 2,
   "id": "88a31990",
   "metadata": {},
   "outputs": [],
   "source": [
    "instructs = load_instructs(\"main.hex\")\n",
    "variables = [\n",
    "    2,  # number of row\n",
    "    2,  # number of column\n",
    "    0,  # cost[0][0]\n",
    "    1,  # cost[0][1]\n",
    "    2,  # cost[1][0]\n",
    "    3,  # cost[1][1]\n",
    "]\n",
    "start_sp = lui(2, 0xA0030000)\n",
    "instructs.insert(0, start_sp)"
   ]
  },
  {
   "cell_type": "code",
   "execution_count": 5,
   "id": "bed4e1e7",
   "metadata": {},
   "outputs": [
    {
     "name": "stdout",
     "output_type": "stream",
     "text": [
      "0:   2\n",
      "1:   2\n",
      "2:   0\n",
      "3:   1\n",
      "4:   2\n",
      "5:   3\n",
      "6:   6\n",
      "7:   0\n",
      "8:   0\n",
      "9:   1\n",
      "10:   1\n",
      "11:   0\n",
      "12:   0\n",
      "13:   0\n",
      "14:   0\n",
      "15:   0\n",
      "16:   0\n",
      "17:   0\n",
      "18:   0\n",
      "19:   0\n",
      "Result 2x2  of Hungarian algorithm: \n",
      " [[0 1]\n",
      " [0 1]]\n",
      "All processes are done in 0.677481650000118 seconds\n"
     ]
    }
   ],
   "source": [
    "t0 = time.perf_counter()\n",
    "\n",
    "overlay = Overlay(\"./bitstream/riscv.bit\")\n",
    "imem = overlay.IMEM_CONTROL\n",
    "dmem = overlay.DMEM_CONTROL\n",
    "gpio = overlay.axi_gpio_0\n",
    "\n",
    "for idx, i in enumerate(instructs):\n",
    "    imem.write(idx * 4, i)\n",
    "for idx, v in enumerate(variables):\n",
    "    dmem.write(idx * 4, v)\n",
    "gpio.write(0x00, 1)\n",
    "gpio.write(0x00, 0)\n",
    "\n",
    "results = []\n",
    "for i in range(20):\n",
    "    result = dmem.read((i) * 4)\n",
    "    results.append(result)\n",
    "    print(f\"{i}:   {result}\")\n",
    "\n",
    "# results[6] is not use just for checking.\n",
    "output = np.array([[results[7], results[9]], [results[8], results[10]]], dtype=np.int32)\n",
    "print(f\"Result 2x2  of Hungarian algorithm: \\n {output}\")\n",
    "t1 = time.perf_counter()\n",
    "print(f\"All processes are done in {t1 - t0} seconds\")"
   ]
  },
  {
   "cell_type": "code",
   "execution_count": null,
   "id": "a9cf6434",
   "metadata": {},
   "outputs": [],
   "source": []
  }
 ],
 "metadata": {
  "kernelspec": {
   "display_name": "Python 3 (ipykernel)",
   "language": "python",
   "name": "python3"
  },
  "language_info": {
   "codemirror_mode": {
    "name": "ipython",
    "version": 3
   },
   "file_extension": ".py",
   "mimetype": "text/x-python",
   "name": "python",
   "nbconvert_exporter": "python",
   "pygments_lexer": "ipython3",
   "version": "3.8.2"
  }
 },
 "nbformat": 4,
 "nbformat_minor": 5
}
